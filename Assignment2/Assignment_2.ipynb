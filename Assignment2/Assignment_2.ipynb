{
 "cells": [
  {
   "cell_type": "code",
   "execution_count": null,
   "id": "d4428728-9693-40dc-8be4-db82d55c9516",
   "metadata": {},
   "outputs": [],
   "source": [
    "#Name- Amit Ranjan\n",
    "#SAP ID - 590018730\n",
    "# MCA\n"
   ]
  },
  {
   "cell_type": "code",
   "execution_count": 1,
   "id": "94ef2601-660f-4adc-bbd7-a5a4d177f736",
   "metadata": {},
   "outputs": [
    {
     "name": "stdout",
     "output_type": "stream",
     "text": [
      "Hello Alice\n",
      "Good Morning Bob\n"
     ]
    }
   ],
   "source": [
    "#1. Basic function implementation\n",
    "#Write a function greet that takes two arguments ; name(a string) and greeting (a string with a default value of \"Hello\".This function should return a greeting message\n",
    "#greet(\"Alice\") # Output: \"Hello Alice\"\n",
    "\n",
    "#greet(\"Bob\", \"Good Morning\") # Output: \"Good Morning Bob\"\n",
    "\n",
    "\n",
    "def greet(name, greeting=\"Hello\"):\n",
    "    return f\"{greeting} {name}\"\n",
    "\n",
    "# calling the function \n",
    "print(greet(\"Alice\"))          \n",
    "print(greet(\"Bob\", \"Good Morning\"))"
   ]
  },
  {
   "cell_type": "code",
   "execution_count": 3,
   "id": "927d9714-cf9e-4782-a51a-3cab28eb2baf",
   "metadata": {},
   "outputs": [
    {
     "name": "stdout",
     "output_type": "stream",
     "text": [
      "Name: Amit, Age: 21, City: Ranchi\n",
      "Name: Ranjan, Age: 22, City: jharkhand\n"
     ]
    }
   ],
   "source": [
    "#Create a function create_profile that takes arguments for name, age, and city as named arguments . The function should return a string like \"Name\":alice,age:25,city:New York. Ensure that the age arguments has a default value of 18\n",
    "#create_profile(name=\"John\", city=\"Chicago\") # Output: \"Name: John, Age: 18, City: Chicago\"\n",
    "\n",
    "#create_profile(name=\"Emma\", age=22, city=\"Los Angeles\") # Output: \"Name: Emma, Age: 22, City: Los Angeles\"\n",
    "\n",
    "\n",
    "\n",
    "def create_profile(name, city, age=21):\n",
    "    return f\"Name: {name}, Age: {age}, City: {city}\"\n",
    "\n",
    "# Function calling directly  \n",
    "print(create_profile(name=\"Amit\", city=\"Ranchi\"))  \n",
    "print(create_profile(name=\"Ranjan\", age=22, city=\"jharkhand\"))\n"
   ]
  },
  {
   "cell_type": "code",
   "execution_count": 5,
   "id": "0012b31d-98ff-4bcd-a9f4-edf0a598f6c3",
   "metadata": {},
   "outputs": [
    {
     "name": "stdout",
     "output_type": "stream",
     "text": [
      "Sum: (6, {})\n",
      "Keyword: (3, {'x': 4, 'y': 5})\n"
     ]
    }
   ],
   "source": [
    "# Write a function sum_number that takes any number in positional arguments(args) and keyword arguments(*kwargs) . It should\n",
    "# 1. Return the sum of all *args if they are numbers\n",
    "# 2. Return a dictionary all keywords arguments\n",
    "# sum_numbers(1, 2, 3) # Output: 6\n",
    "#sum_numbers(1, 2, x=4, y=5) # Output: (6, {'x': 4, 'y': 5})\n",
    "\n",
    "\n",
    "def sum_numbers(*args, **kwargs):\n",
    "    total_sum = 0\n",
    "    \n",
    "    for arg in args:\n",
    "        # Check if the argument is a number (int or float)\n",
    "        if isinstance(arg, (int, float)):\n",
    "            # if number is int then add\n",
    "            total_sum += arg\n",
    "\n",
    "    dictionary = {}  # blank diictionary\n",
    "    for key in kwargs:\n",
    "        dictionary[key] = kwargs[key]\n",
    "\n",
    "    return total_sum, dictionary\n",
    "\n",
    "\n",
    "print(\"Sum:\",sum_numbers(1, 2, 3))  \n",
    "print(\"Keyword:\" ,sum_numbers(1, 2, x=4, y=5)) "
   ]
  },
  {
   "cell_type": "code",
   "execution_count": 6,
   "id": "bd7edff2-77c9-4543-989a-50789efbdf4d",
   "metadata": {},
   "outputs": [
    {
     "name": "stdout",
     "output_type": "stream",
     "text": [
      "[1, 4, 9, 16, 25, 36, 49, 64, 81]\n"
     ]
    }
   ],
   "source": [
    "#Write a function that uses map and a lambda to return a list where each element is squared\n",
    "\n",
    "\n",
    "def square(val):\n",
    "    return list(map(lambda x: x**2, val))\n",
    "\n",
    "n = [1,2,3,4,5,6,7,8,9]\n",
    "squ = square(n)\n",
    "print(squ)"
   ]
  },
  {
   "cell_type": "code",
   "execution_count": 7,
   "id": "fde1350f-6b70-46e1-adfc-2595a4efdccb",
   "metadata": {},
   "outputs": [
    {
     "name": "stdout",
     "output_type": "stream",
     "text": [
      "[2, 4, 62, 92, 34, 30]\n"
     ]
    }
   ],
   "source": [
    "#Write a function that filters out all odd numbers from a list using filter and a lambda function\n",
    "\n",
    "\n",
    "def filter_value(val):\n",
    "    return list(filter(lambda x: x % 2 == 0, val))\n",
    "\n",
    "n = [31,2,13,4,53,62,71,81,92,34,30]\n",
    "filtered_num = filter_value(n)\n",
    "print(filtered_num)"
   ]
  },
  {
   "cell_type": "code",
   "execution_count": 8,
   "id": "5b4cc198-99c0-4d1b-93b3-c24587ec2353",
   "metadata": {},
   "outputs": [
    {
     "name": "stdout",
     "output_type": "stream",
     "text": [
      "[4, 484, 2704, 1024, 9, 100]\n"
     ]
    }
   ],
   "source": [
    "# Create a list comprehension that takes a list of numbers and returns a list of their squares\n",
    "\n",
    "\n",
    "def squares(val):\n",
    "    return [x**2 for x in val]\n",
    "\n",
    "n = [4,12,52,32,33,40]\n",
    "sq = squares(n)\n",
    "print(sq)"
   ]
  },
  {
   "cell_type": "code",
   "execution_count": 9,
   "id": "61d34775-20d5-4f70-9207-3d5a2a5e1e6e",
   "metadata": {},
   "outputs": [
    {
     "name": "stdout",
     "output_type": "stream",
     "text": [
      "[2, 4, 6, 8, 10, 12, 14, 16, 18, 20]\n"
     ]
    }
   ],
   "source": [
    "#Use a list comprehension to create a list of even numbers from 1 to 20\n",
    "\n",
    "\n",
    "even_numbers = [x for x in range(1,21) if x%2 == 0]\n",
    "\n",
    "print(even_numbers)"
   ]
  },
  {
   "cell_type": "code",
   "execution_count": 12,
   "id": "50d20d40-04ba-420f-b1e5-d1fefc5790da",
   "metadata": {},
   "outputs": [
    {
     "name": "stdout",
     "output_type": "stream",
     "text": [
      "Directory 'Python' created.\n",
      "Paused for 3 seconds.\n",
      "Directory 'Python' deleted.\n"
     ]
    }
   ],
   "source": [
    "#Write a function file_operations that creates a directory named \"test_folder\" using os.makedirs(). Then, pause the execution for 3 seconds using time.sleep(), and finally, delete the directory using os.rmdir()\n",
    "\n",
    "\n",
    "import os\n",
    "import time\n",
    "\n",
    "def file_operations():\n",
    "    \n",
    "    os.makedirs(\"Python\")\n",
    "    print(\"Directory 'Python' created.\")\n",
    "    \n",
    "    time.sleep(3)\n",
    "    print(\"Paused for 3 seconds.\")\n",
    "    \n",
    "    os.rmdir(\"Python\")\n",
    "    print(\"Directory 'Python' deleted.\")\n",
    "    \n",
    "file_operations()"
   ]
  },
  {
   "cell_type": "code",
   "execution_count": 15,
   "id": "5d3d8ef6-8d94-4b11-9613-456f44b95ee1",
   "metadata": {},
   "outputs": [
    {
     "name": "stdout",
     "output_type": "stream",
     "text": [
      "Paused execution.\n"
     ]
    }
   ],
   "source": [
    "# Q. Write a Python script that imports only sleep from the time module and renames it to pause. Use it to pause execution for 2 seconds and print \"Paused execution...\"\n",
    "\n",
    "\n",
    "from time import sleep as pause\n",
    "\n",
    "pause(2)\n",
    "\n",
    "print(\"Paused execution.\")"
   ]
  },
  {
   "cell_type": "code",
   "execution_count": 16,
   "id": "554dc348-0463-4434-b959-02da678bc7fd",
   "metadata": {},
   "outputs": [
    {
     "name": "stdout",
     "output_type": "stream",
     "text": [
      "[10, 20, 30, 40, 50, 60, 70, 80]\n"
     ]
    }
   ],
   "source": [
    "#Write a recursive function flatten_list that can flatten a nested list of any depth using args and kwargs/\n",
    "\n",
    "\n",
    "def flatten_list(*args):\n",
    "    flatten = []\n",
    "    for item in args:\n",
    "        if isinstance(item, list):\n",
    "            flatten.extend(flatten_list(*item))\n",
    "        else:\n",
    "            flatten.append(item)\n",
    "            \n",
    "    return flatten\n",
    "\n",
    "nested_list = [10, [20, [30, 40]], 50, [60, [70, [80]]]]\n",
    "flat_list = flatten_list(*nested_list)\n",
    "print(flat_list)"
   ]
  },
  {
   "cell_type": "code",
   "execution_count": null,
   "id": "89b55fe5-0de0-4ae9-9699-74293f97ce03",
   "metadata": {},
   "outputs": [],
   "source": []
  }
 ],
 "metadata": {
  "kernelspec": {
   "display_name": "Python 3 (ipykernel)",
   "language": "python",
   "name": "python3"
  },
  "language_info": {
   "codemirror_mode": {
    "name": "ipython",
    "version": 3
   },
   "file_extension": ".py",
   "mimetype": "text/x-python",
   "name": "python",
   "nbconvert_exporter": "python",
   "pygments_lexer": "ipython3",
   "version": "3.12.5"
  }
 },
 "nbformat": 4,
 "nbformat_minor": 5
}
